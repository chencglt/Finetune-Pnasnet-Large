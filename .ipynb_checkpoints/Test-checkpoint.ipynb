{
 "cells": [
  {
   "cell_type": "code",
   "execution_count": 11,
   "metadata": {},
   "outputs": [],
   "source": [
    "from dataprovider import DataProvider\n",
    "import cv2\n",
    "import os"
   ]
  },
  {
   "cell_type": "code",
   "execution_count": 8,
   "metadata": {},
   "outputs": [],
   "source": [
    "pp=DataProvider('/home/chen/DL/Dataset/bin_data_10/')"
   ]
  },
  {
   "cell_type": "code",
   "execution_count": 9,
   "metadata": {},
   "outputs": [
    {
     "name": "stdout",
     "output_type": "stream",
     "text": [
      "['item_1', 'item_1', 'item_2', 'item_1', 'item_10', 'item_2', 'item_3', 'item_1', 'item_1', 'item_10', 'item_1', 'item_3', 'item_3', 'item_10', 'item_3', 'item_10', 'item_1', 'item_2', 'item_3', 'item_4', 'item_10', 'item_4', 'item_10', 'item_3', 'item_4', 'item_2', 'item_10', 'item_3', 'item_10', 'item_10', 'item_2', 'item_3', 'item_10', 'item_1', 'item_1', 'item_3', 'item_2', 'item_3', 'item_10', 'item_10', 'item_10', 'item_4', 'item_2', 'item_3', 'item_10', 'item_3', 'item_1', 'item_2', 'item_4', 'item_2', 'item_1', 'item_1', 'item_10', 'item_1', 'item_1', 'item_10', 'item_2', 'item_10', 'item_3', 'item_3', 'item_2', 'item_4', 'item_1', 'item_4', 'item_10', 'item_10', 'item_4', 'item_4', 'item_10', 'item_3', 'item_3', 'item_2', 'item_4']\n"
     ]
    }
   ],
   "source": []
  },
  {
   "cell_type": "code",
   "execution_count": null,
   "metadata": {},
   "outputs": [],
   "source": []
  }
 ],
 "metadata": {
  "kernelspec": {
   "display_name": "Python 3",
   "language": "python",
   "name": "python3"
  },
  "language_info": {
   "codemirror_mode": {
    "name": "ipython",
    "version": 3
   },
   "file_extension": ".py",
   "mimetype": "text/x-python",
   "name": "python",
   "nbconvert_exporter": "python",
   "pygments_lexer": "ipython3",
   "version": "3.5.2"
  }
 },
 "nbformat": 4,
 "nbformat_minor": 2
}
